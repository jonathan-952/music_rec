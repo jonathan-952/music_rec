{
 "cells": [
  {
   "cell_type": "code",
   "execution_count": 8,
   "id": "70522b33-36b3-4141-98dc-9e6f9bfc2518",
   "metadata": {},
   "outputs": [
    {
     "name": "stdout",
     "output_type": "stream",
     "text": [
      "Path to dataset files: C:\\Users\\John Pork\\.cache\\kagglehub\\datasets\\noahbadoa\\fma-dataset-100k-music-wav-files\\versions\\1\n"
     ]
    }
   ],
   "source": []
  },
  {
   "cell_type": "code",
   "execution_count": null,
   "id": "6168e15c-4806-4c24-a229-d91e95b1c6bf",
   "metadata": {},
   "outputs": [],
   "source": [
    "\n",
    "\n",
    "import pandas as pd\n",
    "import numpy as np\n",
    "import librosa\n",
    "import librosa.display\n",
    "import matplotlib.pylab as plt\n",
    "# import seaborn as sns\n",
    "import IPython.display as ipt\n",
    "import glob\n",
    "import os\n",
    "from tinytag import TinyTag\n",
    "\n",
    "import kagglehub\n",
    "path = \"\"\n",
    "try:\n",
    "    path = kagglehub.dataset_download(\"noahbadoa/fma-dataset-100k-music-wav-files\")\n",
    "    print(\"Path to dataset files:\", path)\n",
    "except Exception as e:\n",
    "    print(\"Error:\", e)\n",
    "\n",
    "target_path = path + r'\\fma_large'\n",
    "\n",
    "files = glob.glob(path + r'\\**\\*.mp3', recursive = True)\n",
    "\n",
    "extract_features = []\n",
    "\n",
    "for i in range(len(files) // 2):\n",
    "\n",
    "    tag = TinyTag.get(files[i])\n",
    "    \n",
    "    y, sr = librosa.load(files[i], sr=22050)\n",
    "    \n",
    "    mfcc = librosa.feature.mfcc(y=y, sr=sr)\n",
    "\n",
    "    onset_env = librosa.onset.onset_strength(y=y, sr=sr)\n",
    "    tempo = librosa.feature.tempo(onset_envelope=onset_env, sr=sr)\n",
    "\n",
    "    centroid = librosa.feature.spectral_centroid(y=y, sr=sr)\n",
    "\n",
    "    spec_rolloff = librosa.feature.spectral_rolloff(y=y, sr=sr)\n",
    "\n",
    "    chroma = librosa.feature.chroma_stft(y=y, sr=sr)\n",
    "\n",
    "    zero_crossing = librosa.feature.zero_crossing_rate(y)\n",
    "\n",
    "    extract_features.append({\"mffc\" : mfcc, \"tempo\" : tempo, \"spec_centroid\" : centroid, 'spec rolloff' : spec_rolloff, 'chroma' : chroma, 'zero crossing': zero_crossing})\n",
    "\n",
    "feature_df = pd.DataFrame(extract_features)\n",
    "\n",
    "feature_df.to_csv(\"output.csv\")\n",
    "\n"
   ]
  },
  {
   "cell_type": "code",
   "execution_count": null,
   "id": "f1a5147f-1598-460e-aec9-cb62ca6b99b4",
   "metadata": {},
   "outputs": [],
   "source": [
    "import pandas as pd \n",
    "\n",
    "\n",
    "\n",
    "df = pd.read_csv(r'D:\\songrec\\songrec_metadata\\fma_metadata\\raw_artists.csv')\n",
    "\n",
    "pd.set_option('display.max_rows', None)\n",
    "\n",
    "print(len(df))"
   ]
  },
  {
   "cell_type": "code",
   "execution_count": null,
   "id": "734b0335-1ed1-472b-8d50-768fccc93de3",
   "metadata": {},
   "outputs": [],
   "source": []
  }
 ],
 "metadata": {
  "kernelspec": {
   "display_name": "Python 3 (ipykernel)",
   "language": "python",
   "name": "python3"
  },
  "language_info": {
   "codemirror_mode": {
    "name": "ipython",
    "version": 3
   },
   "file_extension": ".py",
   "mimetype": "text/x-python",
   "name": "python",
   "nbconvert_exporter": "python",
   "pygments_lexer": "ipython3",
   "version": "3.13.5"
  }
 },
 "nbformat": 4,
 "nbformat_minor": 5
}
