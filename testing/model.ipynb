{
 "cells": [
  {
   "cell_type": "code",
   "execution_count": 8,
   "id": "70522b33-36b3-4141-98dc-9e6f9bfc2518",
   "metadata": {},
   "outputs": [
    {
     "name": "stdout",
     "output_type": "stream",
     "text": [
      "Path to dataset files: C:\\Users\\John Pork\\.cache\\kagglehub\\datasets\\noahbadoa\\fma-dataset-100k-music-wav-files\\versions\\1\n"
     ]
    }
   ],
   "source": []
  },
  {
   "cell_type": "code",
   "execution_count": 38,
   "id": "6168e15c-4806-4c24-a229-d91e95b1c6bf",
   "metadata": {},
   "outputs": [
    {
     "name": "stdout",
     "output_type": "stream",
     "text": [
      "Path to dataset files: C:\\Users\\John Pork\\.cache\\kagglehub\\datasets\\noahbadoa\\fma-dataset-100k-music-wav-files\\versions\\1\n",
      "['C:\\\\Users\\\\John Pork\\\\.cache\\\\kagglehub\\\\datasets\\\\noahbadoa\\\\fma-dataset-100k-music-wav-files\\\\versions\\\\1\\\\fma_large\\\\000']\n"
     ]
    }
   ],
   "source": [
    "\n",
    "\n",
    "import pandas as pd\n",
    "import numpy as np\n",
    "import librosa\n",
    "import librosa.display\n",
    "import matplotlib.pylab as plt\n",
    "# import seaborn as sns\n",
    "import IPython.display as ipt\n",
    "import glob\n",
    "import os\n",
    "\n",
    "import kagglehub\n",
    "path = \"\"\n",
    "try:\n",
    "    path = kagglehub.dataset_download(\"noahbadoa/fma-dataset-100k-music-wav-files\")\n",
    "    print(\"Path to dataset files:\", path)\n",
    "except Exception as e:\n",
    "    print(\"Error:\", e)\n",
    "\n",
    "target_path = os.path.join(path, \"fma_large\")\n",
    "\n",
    "wav_files = glob.glob(os.path.join(target_path, \"000\"), recursive=True)\n",
    "\n",
    "print(wav_files)\n",
    "\n",
    "# ipt.Audio(wav_files[0])"
   ]
  },
  {
   "cell_type": "code",
   "execution_count": null,
   "id": "f1a5147f-1598-460e-aec9-cb62ca6b99b4",
   "metadata": {},
   "outputs": [],
   "source": []
  },
  {
   "cell_type": "code",
   "execution_count": null,
   "id": "734b0335-1ed1-472b-8d50-768fccc93de3",
   "metadata": {},
   "outputs": [],
   "source": []
  }
 ],
 "metadata": {
  "kernelspec": {
   "display_name": "Python 3 (ipykernel)",
   "language": "python",
   "name": "python3"
  },
  "language_info": {
   "codemirror_mode": {
    "name": "ipython",
    "version": 3
   },
   "file_extension": ".py",
   "mimetype": "text/x-python",
   "name": "python",
   "nbconvert_exporter": "python",
   "pygments_lexer": "ipython3",
   "version": "3.13.5"
  }
 },
 "nbformat": 4,
 "nbformat_minor": 5
}
